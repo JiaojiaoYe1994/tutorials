{
 "cells": [
  {
   "cell_type": "code",
   "execution_count": 23,
   "metadata": {},
   "outputs": [
    {
     "name": "stdout",
     "output_type": "stream",
     "text": [
      "4\n",
      "9\n",
      "16\n",
      "25\n",
      "36\n",
      "49\n",
      "64\n",
      "81\n",
      "1\n",
      "1\n",
      "2\n",
      "3\n",
      "5\n",
      "8\n"
     ]
    }
   ],
   "source": [
    "# Generator\n",
    "\n",
    "## 1. simplr generator: use () instead of [] to announce a generator\n",
    "\n",
    "# construct a normal list\n",
    "L = [x * x for x in range(10)]\n",
    "\n",
    "g = (x * x for x in range(10))\n",
    "\n",
    "\n",
    "# acquire element through next() function\n",
    "import sys\n",
    "if sys.version.startswith('3'):\n",
    "    next(g)\n",
    "    g.__next__()\n",
    "elif sys.version.startswith('2'):\n",
    "    g.next()\n",
    "    g.next()\n",
    "# acquire element through for loop\n",
    "for n in g:\n",
    "    print(n)\n",
    "    \n",
    "# construct generator with key yield\n",
    "def fib(max):\n",
    "    n, a, b = 0, 0, 1\n",
    "    while n < max:\n",
    "        yield b\n",
    "        a, b = b, a + b\n",
    "        n = n + 1\n",
    "        \n",
    "        \n",
    "# 函数是顺序执行，遇到return语句或者最后一行函数语句就返回。而变成generator的函数，在每次调用next()的时候执行，遇到yield语句返回，再次执行时从上次返回的yield语句处继续执行。\n",
    "\n",
    "fib(6)\n",
    "\n",
    "# call generator function through next\n",
    "if sys.version.startswith('3'):\n",
    "    next(fib(6))\n",
    "elif sys.version.startswith('2'):\n",
    "    fib(6).next()\n",
    "\n",
    "for n in fib(6):\n",
    "    print(n)\n"
   ]
  },
  {
   "cell_type": "markdown",
   "metadata": {},
   "source": [
    "# log  日志"
   ]
  },
  {
   "cell_type": "code",
   "execution_count": 1,
   "metadata": {},
   "outputs": [],
   "source": [
    "import logging"
   ]
  },
  {
   "cell_type": "code",
   "execution_count": 12,
   "metadata": {},
   "outputs": [
    {
     "name": "stderr",
     "output_type": "stream",
     "text": [
      "2021-03-24 15:33:07,114 - <ipython-input-12-0c88f1ebee58>[line:19] - DEBUG: debug\n",
      "2021-03-24 15:33:07,114 - <ipython-input-12-0c88f1ebee58>[line:20] - INFO: info\n",
      "2021-03-24 15:33:07,115 - <ipython-input-12-0c88f1ebee58>[line:21] - WARNING: warning\n",
      "2021-03-24 15:33:07,115 - <ipython-input-12-0c88f1ebee58>[line:22] - ERROR: error\n"
     ]
    }
   ],
   "source": [
    "# outputfile \n",
    "\n",
    "# \n",
    "# logging.basicConfig(format='%(asctime)s - %(filename)s[line:%(lineno)d] - %(levelname)s: %(message)s',\n",
    "#                     level=logging.DEBUG,\n",
    "#                     filename='test.log',\n",
    "#                     filemode='a')\n",
    "\n",
    "\n",
    "# save log file \n",
    "logging.basicConfig(format='%(asctime)s - %(filename)s[line:%(lineno)d] - %(levelname)s: %(message)s',\n",
    "                    level=logging.DEBUG,\n",
    "                    filename='./test.log',\n",
    "                    filemode='a')\n",
    "\n",
    "logger = logging.getLogger(\"Log\")\n",
    "\n",
    "# log message\n",
    "logger.debug('debug')\n",
    "logger.info('info')\n",
    "logger.warning('warning')\n",
    "logger.error('error')\n",
    "\n",
    "\n",
    "# log format\n",
    "# log level: only print msg with higher level, default \"logging.WARN\" , debug < info < warning < error < critical\n",
    "logging.basicConfig(format='%(asctime)s - %(filename)s[line:%(lineno)d] - %(levelname)s: %(message)s',\n",
    "                    level=logging.DEBUG)\n",
    "\n",
    "\n",
    "# basicConfig\n",
    "# %(name)s：Logger的名字\n",
    "# %(levelno)s：打印日志级别的数值\n",
    "# %(levelname)s：打印日志级别的名称\n",
    "# %(pathname)s：打印当前执行程序的路径，其实就是sys.argv[0]\n",
    "# %(filename)s：打印当前执行程序名\n",
    "# %(funcName)s：打印日志的当前函数\n",
    "# %(lineno)d：打印日志的当前行号\n",
    "# %(asctime)s：打印日志的时间\n",
    "# %(thread)d：打印线程ID\n",
    "# %(threadName)s：打印线程名称\n",
    "# %(process)d：打印进程ID\n",
    "# %(message)s：打印日志信息\n",
    "\n",
    "\n"
   ]
  },
  {
   "cell_type": "markdown",
   "metadata": {},
   "source": [
    "### re\n",
    "\n",
    "\n",
    "**re.compile**\n",
    " compile 函数用于编译**正则表达式**，生成一个正则表达式（ Pattern ）对象，供 match() 和 search() 这两个函数使用。语法格式为：\n",
    " Compile a regular expression pattern into a regular expression object, which can be used for matching using its match(), search() and other methods, described below.\n",
    "\n",
    "pattern = re.compile(pattern, text, flags)\n",
    "\n",
    "**re.match**\n",
    "re.match 尝试从字符串的起始位置匹配一个模式，如果不是起始位置匹配成功的话，match()就返回none。\n",
    "re.match(pattern, string, flags=0)\n",
    "res1 = re.match(r\"we\",\"s we r chinese\")\n",
    "\n",
    "**re.search**\n",
    "re.search 扫描整个字符串并返回第一个成功的匹配。\n",
    "re.search(pattern, string, flags=0)\n",
    "Scan through string looking for the first location where the regular expression pattern produces a match, and return a corresponding match object. Return None if no position in the string matches the pattern; note that this is different from finding a zero-length match at some point in the string\n",
    "\n",
    "**re.findall**\n",
    "Return all non-overlapping matches of pattern in string, as a list of strings or tuples. The string is scanned \n",
    "left-to-right, and matches are returned in the order found. Empty matches are included in the result.\n",
    "\n",
    "* Flags： (One or more letters from the set 'a', 'i', 'L', 'm', 's', 'u', 'x'.) The group matches the empty string; the letters set the corresponding flags: re.A (ASCII-only matching), re.I (ignore case), re.L (locale dependent), re.M (multi-line), re.S (dot matches all), re.U (Unicode matching), and re.X (verbose), for the entire regular expression. (The flags are described in Module Contents.) "
   ]
  },
  {
   "cell_type": "code",
   "execution_count": 7,
   "metadata": {},
   "outputs": [],
   "source": [
    "import re\n",
    "\n",
    "pattern = re.compile(r\"\\d+\") # r用来标识非转义字符\n",
    "text = 'one12twothree34four'\n",
    "\n",
    "res_match =  pattern.match(text)  # 用于匹配至少一个数字\n",
    "# res_match is empty\n",
    "\n",
    "res_search = pattern.search(text)\n",
    "# res_search is <re.Match object; span=(3, 5), match='12'>\n",
    "\n",
    "res_findall = pattern.findall(text)\n",
    "# res_findall is ['12', '34']"
   ]
  },
  {
   "cell_type": "code",
   "execution_count": 4,
   "metadata": {},
   "outputs": [],
   "source": [
    "res_match"
   ]
  },
  {
   "cell_type": "code",
   "execution_count": null,
   "metadata": {},
   "outputs": [],
   "source": []
  }
 ],
 "metadata": {
  "kernelspec": {
   "display_name": "Python 3 (ipykernel)",
   "language": "python",
   "name": "python3"
  },
  "language_info": {
   "codemirror_mode": {
    "name": "ipython",
    "version": 3
   },
   "file_extension": ".py",
   "mimetype": "text/x-python",
   "name": "python",
   "nbconvert_exporter": "python",
   "pygments_lexer": "ipython3",
   "version": "3.7.10"
  }
 },
 "nbformat": 4,
 "nbformat_minor": 4
}
