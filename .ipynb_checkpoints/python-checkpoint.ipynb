{
 "cells": [
  {
   "cell_type": "markdown",
   "metadata": {},
   "source": [
    "# Multiprocess and thread\n",
    "\n",
    "\n",
    "Process: 进程是操作系统分配资源的最小单元, 线程是操作系统调度的最小单元。\n",
    "Thread: 一个应用程序至少包括1个进程，而1个进程包括1个或多个线程，线程的尺度更小。\n",
    "每个进程在执行过程中拥有独立的内存单元，而一个进程的多个线程在执行过程中共享内。\n",
    "任一时刻，CPU总是运行一个进程，其他进程处于非运行状态。\n",
    "\n"
   ]
  },
  {
   "cell_type": "markdown",
   "metadata": {},
   "source": [
    "## Multiprocess\n",
    "\n",
    "**Multiprocessing:** multiprocessing is a package that supports spawning processes using an API similar to the threading module.\n",
    "    \n",
    "    \n"
   ]
  },
  {
   "cell_type": "code",
   "execution_count": 6,
   "metadata": {},
   "outputs": [
    {
     "name": "stdout",
     "output_type": "stream",
     "text": [
      "测试Python多进程\n",
      "测试Python多进程\n",
      "测试Python多进程测试Python多进程\n",
      "\n",
      "测试Python多进程\n",
      "结束测试\n"
     ]
    }
   ],
   "source": [
    "from multiprocessing import  Process\n",
    "\n",
    "def fun1(name):\n",
    "    print('测试%s多进程' %name)\n",
    "\n",
    "if __name__ == '__main__':\n",
    "    process_list = []\n",
    "    for i in range(5):  #开启5个子进程执行fun1函数\n",
    "        p = Process(target=fun1,args=('Python',)) #实例化进程对象\n",
    "        p.start()\n",
    "        process_list.append(p)\n",
    "\n",
    "    for i in process_list:\n",
    "        p.join()\n",
    "\n",
    "    print('结束测试')\n"
   ]
  },
  {
   "cell_type": "markdown",
   "metadata": {},
   "source": [
    "#### 1. Creat multiprocesses using Class `Process` and calling method `start()` then. "
   ]
  },
  {
   "cell_type": "code",
   "execution_count": 8,
   "metadata": {},
   "outputs": [
    {
     "name": "stdout",
     "output_type": "stream",
     "text": [
      "main line\n",
      "module name: __main__\n",
      "parent process: 20670\n",
      "process id: 21332\n",
      "function f\n",
      "module name: __main__\n",
      "parent process: 21332\n",
      "process id: 25383\n",
      "hello bob\n"
     ]
    }
   ],
   "source": [
    "from multiprocessing import Process\n",
    "import os\n",
    "\n",
    "def info(title):\n",
    "    print(title)\n",
    "    print('module name:', __name__)\n",
    "    print('parent process:', os.getppid())\n",
    "    print('process id:', os.getpid())\n",
    "\n",
    "def f(name):\n",
    "    info('function f')\n",
    "    print('hello', name)\n",
    "\n",
    "if __name__ == '__main__':\n",
    "    info('main line')\n",
    "    p = Process(target=f, args=('bob',))\n",
    "    p.start()\n",
    "    p.join()\n"
   ]
  },
  {
   "cell_type": "markdown",
   "metadata": {},
   "source": [
    "#### 2. Creat multiprocess using Class `Pool`.\n",
    "\n",
    "Pool类可以提供指定数量的进程供用户调用，当有新的请求提交到Pool中时，如果进程池还没有满，就会创建一个新的进程来执行请求。如果池满，请求就会告知先等待，直到池中有进程结束，才会创建新的进程来执行这些请求。\n",
    "\n",
    "The Pool class represents a pool of worker processes. It has methods which allows tasks to be offloaded to the worker processes in a few different ways.\n",
    "\n",
    "1.apply_async\n",
    "\n",
    "函数原型：apply_async(func[, args=()[, kwds={}[, callback=None]]])\n",
    "\n",
    "其作用是向进程池提交需要执行的函数及参数， 各个进程采用非阻塞（异步）的调用方式，即每个子进程只管运行自己的，不管其它进程是否已经完成。这是默认方式。\n",
    "\n",
    "2.map()\n",
    "\n",
    "函数原型：map(func, iterable[, chunksize=None])\n",
    "\n",
    "Pool类中的map方法，与内置的map函数用法行为基本一致，它会使进程阻塞直到结果返回。 注意：虽然第二个参数是一个迭代器，但在实际使用中，必须在整个队列都就绪后，程序才会运行子进程。\n",
    "\n",
    "3.map_async()\n",
    "\n",
    "函数原型：map_async(func, iterable[, chunksize[, callback]])\n",
    "与map用法一致，但是它是非阻塞的。其有关事项见apply_async。\n",
    "\n",
    "4.close()\n",
    "\n",
    "关闭进程池（pool），使其不在接受新的任务。\n",
    "\n",
    "5. terminate()\n",
    "\n",
    "结束工作进程，不在处理未处理的任务。\n",
    "\n",
    "6.join()\n",
    "\n",
    "主进程阻塞等待子进程的退出， join方法要在close或terminate之后使用。"
   ]
  },
  {
   "cell_type": "code",
   "execution_count": 9,
   "metadata": {},
   "outputs": [],
   "source": [
    "'''\n",
    "Creat multiprocess using Class `Pool`.\n",
    "\n",
    "Pool类可以提供指定数量的进程供用户调用，当有新的请求提交到Pool中时，如果进程池还没有满，就会创建一个新的进程来执行请求。如果池满，请求就会告知先等待，直到池中有进程结束，才会创建新的进程来执行这些请求。\n",
    "\n",
    "'''\n",
    "\n",
    "from multiprocessing import Pool, cpu_count"
   ]
  },
  {
   "cell_type": "code",
   "execution_count": 10,
   "metadata": {},
   "outputs": [
    {
     "data": {
      "text/plain": [
       "8"
      ]
     },
     "execution_count": 10,
     "metadata": {},
     "output_type": "execute_result"
    }
   ],
   "source": [
    "cpu_count()"
   ]
  },
  {
   "cell_type": "code",
   "execution_count": null,
   "metadata": {},
   "outputs": [],
   "source": []
  }
 ],
 "metadata": {
  "kernelspec": {
   "display_name": "Python 3",
   "language": "python",
   "name": "python3"
  },
  "language_info": {
   "codemirror_mode": {
    "name": "ipython",
    "version": 3
   },
   "file_extension": ".py",
   "mimetype": "text/x-python",
   "name": "python",
   "nbconvert_exporter": "python",
   "pygments_lexer": "ipython3",
   "version": "3.7.7"
  }
 },
 "nbformat": 4,
 "nbformat_minor": 4
}
